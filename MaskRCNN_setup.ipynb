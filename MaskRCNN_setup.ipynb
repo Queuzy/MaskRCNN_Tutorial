{
  "nbformat": 4,
  "nbformat_minor": 0,
  "metadata": {
    "colab": {
      "name": "MaskRCNN_setup.ipynb",
      "provenance": [],
      "collapsed_sections": []
    },
    "kernelspec": {
      "name": "python3",
      "display_name": "Python 3"
    },
    "language_info": {
      "name": "python"
    }
  },
  "cells": [
    {
      "cell_type": "code",
      "execution_count": null,
      "metadata": {
        "id": "MWatTWUKACyI"
      },
      "outputs": [],
      "source": [
        "# Import Google Colab library\n",
        "from google.colab import drive\n",
        "\n",
        "# Connect Google drive with authentication\n",
        "drive.mount(\"/content/gdrive\", force_remount=True)\n",
        "\n",
        "# Change directory to Google drive home page\n",
        "%cd \"/content/gdrive/MyDrive/\"\n",
        "\n",
        "# Download MaskRCNN_Tutorial files from GitHub\n",
        "!git clone 'https://github.com/queuzy/MaskRCNN_Tutorial.git'\n",
        "\n",
        "# Check if downloaded successfully at drive\n",
        "%ls \"/content/gdrive/MyDrive/\""
      ]
    }
  ]
}