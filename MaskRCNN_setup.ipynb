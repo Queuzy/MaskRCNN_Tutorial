{
  "nbformat": 4,
  "nbformat_minor": 0,
  "metadata": {
    "colab": {
      "name": "MaskRCNN_setup.ipynb",
      "provenance": [],
      "collapsed_sections": [],
      "include_colab_link": true
    },
    "kernelspec": {
      "name": "python3",
      "display_name": "Python 3"
    },
    "language_info": {
      "name": "python"
    }
  },
  "cells": [
    {
      "cell_type": "markdown",
      "metadata": {
        "id": "view-in-github",
        "colab_type": "text"
      },
      "source": [
        "<a href=\"https://colab.research.google.com/github/Queuzy/MaskRCNN_Tutorial/blob/main/MaskRCNN_setup.ipynb\" target=\"_parent\"><img src=\"https://colab.research.google.com/assets/colab-badge.svg\" alt=\"Open In Colab\"/></a>"
      ]
    },
    {
      "cell_type": "markdown",
      "source": [
        "# Install Mask R-CNN tutorial from GitHub"
      ],
      "metadata": {
        "id": "oyNsY18oTc-M"
      }
    },
    {
      "cell_type": "code",
      "execution_count": null,
      "metadata": {
        "id": "MWatTWUKACyI"
      },
      "outputs": [],
      "source": [
        "# Import Google Colab library\n",
        "from google.colab import drive\n",
        "\n",
        "# Connect Google drive with authentication\n",
        "drive.mount(\"/content/gdrive\", force_remount=True)\n",
        "\n",
        "# Change directory to Google drive home page\n",
        "%cd \"/content/gdrive/MyDrive/\"\n",
        "\n",
        "# Download MaskRCNN_Tutorial files from GitHub\n",
        "!git clone 'https://github.com/queuzy/MaskRCNN_Tutorial.git'\n",
        "\n",
        "# Remove unnecessary file in MaskRCNN_Tutorial\n",
        "%rm \"/content/gdrive/MyDrive/MaskRCNN_Tutorial/MaskRCNN_setup.ipynb\"\n",
        "%rm -r \"/content/gdrive/MyDrive/MaskRCNN_Tutorial/.git/\"\n",
        "\n",
        "# Check if downloaded successfully at drive home page\n",
        "%ls \"/content/gdrive/MyDrive/MaskRCNN_Tutorial/\""
      ]
    }
  ]
}