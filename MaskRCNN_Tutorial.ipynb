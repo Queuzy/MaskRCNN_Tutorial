{
  "nbformat": 4,
  "nbformat_minor": 0,
  "metadata": {
    "colab": {
      "name": "MaskRCNN_Tutorial.ipynb",
      "provenance": [],
      "collapsed_sections": []
    },
    "kernelspec": {
      "name": "python3",
      "display_name": "Python 3"
    },
    "accelerator": "GPU"
  },
  "cells": [
    {
      "cell_type": "markdown",
      "metadata": {
        "id": "QHnVupBBn9eR"
      },
      "source": [
        "# Mask R-CNN Beginner's Tutorial\n"
      ]
    },
    {
      "cell_type": "markdown",
      "metadata": {
        "id": "vM54r6jlKTII"
      },
      "source": [
        "## Install Google drive\n"
      ]
    },
    {
      "cell_type": "code",
      "metadata": {
        "id": "FsePPpwZSmqt",
        "colab": {
          "base_uri": "https://localhost:8080/"
        },
        "outputId": "38181140-a73e-4099-c431-65cdf4c5c1eb"
      },
      "source": [
        "from google.colab import drive\n",
        "import sys, datetime\n",
        "\n",
        "# Connect Google drive with authentication\n",
        "drive.mount(\"/content/gdrive\", force_remount=True)\n",
        "\n",
        "# Set root dir of the project\n",
        "ROOT_DIR = \"/content/gdrive/MyDrive/MaskRCNN_Tutorial/\"\n",
        "sys.path.insert(0, ROOT_DIR)\n",
        "# List file information in the path\n",
        "%ls $ROOT_DIR\n",
        "\n",
        "# Set training phase with time stamp\n",
        "train_phase = \"OralCancer_{:%Y%m%dT%H%M}\".format(datetime.datetime.now())\n",
        "print(\"\\nSet training phase: {}\".format(train_phase))"
      ],
      "execution_count": 3,
      "outputs": [
        {
          "output_type": "stream",
          "name": "stdout",
          "text": [
            "Mounted at /content/gdrive\n",
            "\u001b[0m\u001b[01;34mDATASET\u001b[0m/  dataset_split.py  \u001b[01;34mmrcnn\u001b[0m/  \u001b[01;34mOUTPUT\u001b[0m/  README.md\n",
            "\u001b[0m\u001b[01;34mtest\u001b[0m/  \u001b[01;34mtrain\u001b[0m/  \u001b[01;34mval\u001b[0m/\n",
            "\n",
            "Set training phase: OralCancer_20220618T1839\n"
          ]
        }
      ]
    },
    {
      "cell_type": "markdown",
      "source": [
        "## Import required library"
      ],
      "metadata": {
        "id": "kK_-RBawT9HO"
      }
    },
    {
      "cell_type": "code",
      "metadata": {
        "id": "ZyAvNCJMmvFF"
      },
      "source": [
        "# Import library\n",
        "import json\n",
        "import skimage.draw\n",
        "import numpy as np\n",
        "from google.colab.patches import cv2_imshow\n",
        "\n",
        "# Import Mask RCNN\n",
        "from mrcnn import visualize\n",
        "from mrcnn.config import Config\n",
        "from mrcnn import model as modellib, utils"
      ],
      "execution_count": null,
      "outputs": []
    },
    {
      "cell_type": "markdown",
      "metadata": {
        "id": "Vk4gID50K03a"
      },
      "source": [
        "## Configurations"
      ]
    },
    {
      "cell_type": "markdown",
      "metadata": {
        "id": "JgKyUL4pngvE"
      },
      "source": [
        "Set model configuration by the ModelConfig class."
      ]
    },
    {
      "cell_type": "code",
      "metadata": {
        "id": "dq9GY37ml1kr"
      },
      "source": [
        "class ModelConfig(Config):\n",
        "    \"\"\"Configuration for training on the oral dataset.\n",
        "    Derives from the base Config class and overrides some values.\n",
        "    \"\"\"\n",
        "    # Give the configuration a recognizable name\n",
        "    NAME = \"OralCancer\"\n",
        "\n",
        "    # Set specific dataset dir\n",
        "    DATASET_DIR = \"DATASET/DATA_220617\"\n",
        "    \n",
        "    # Number of training epochs\n",
        "    EPOCH = 10\n",
        "    \n",
        "    # Number of training steps per epoch\n",
        "    STEPS_PER_EPOCH = 10\n",
        "\n",
        "    # Weight\n",
        "    WEIGHT = \"coco\"\n",
        "    # [Option] \"coco\", \"imagenet\", \"last\", \"<trained>\"\n",
        "    \n",
        "    # Directory to save logs and model checkpoints\n",
        "    LOGS_DIR = \"LOG\"\n",
        "    \n",
        "    # Batch size\n",
        "    # We use a GPU with 12GB memory, which can fit two images.\n",
        "    # Adjust down if you use a smaller GPU.\n",
        "    IMAGES_PER_GPU = 3\n",
        "\n",
        "    # Number of classes (including background)\n",
        "    NUM_CLASSES = 1 + 3  # Background + number of classes\n",
        "\n",
        "    # Skip detections with < 90% confidence\n",
        "    DETECTION_MIN_CONFIDENCE = 0.9\n"
      ],
      "execution_count": null,
      "outputs": []
    },
    {
      "cell_type": "markdown",
      "metadata": {
        "id": "uM1thbN-ntjI"
      },
      "source": [
        "## Dataset"
      ]
    },
    {
      "cell_type": "code",
      "metadata": {
        "id": "HUjkwRsOn1O0"
      },
      "source": [
        "class OralDataset(utils.Dataset):\n",
        "\n",
        "    def load_dataset(self, dataset_dir, subset):\n",
        "        \"\"\" Load a subset of the oral dataset.\n",
        "        dataset_dir: Root directory of the dataset.\n",
        "        subset: Subset to load: train or val\n",
        "        \"\"\"\n",
        "        # Add classes according to the numbe of classes required to detect\n",
        "        self.add_class(\"OralCancer\", 1, \"G\")\n",
        "        self.add_class(\"OralCancer\", 2, \"Y\")\n",
        "        self.add_class(\"OralCancer\", 3, \"R\")\n",
        "        print(\"\\n[INFO] self.class_info: \\n{}\".format(self.class_info))\n",
        "        \n",
        "        # Train or validation dataset?\n",
        "        assert subset in [\"train\", \"val\", \"test\"]\n",
        "        dataset_dir = os.path.join(dataset_dir, subset)\n",
        "        \n",
        "        # Load annotations\n",
        "        # VGG Image Annotator (up to version 1.6) saves each image in the form:\n",
        "        # { 'filename': '28503151_5b5b7ec140_b.jpg',\n",
        "        #   'regions': {\n",
        "        #       '0': {\n",
        "        #           'region_attributes': {},\n",
        "        #           'shape_attributes': {\n",
        "        #               'all_points_x': [...],\n",
        "        #               'all_points_y': [...],\n",
        "        #               'name': 'polygon'}},\n",
        "        #       ... more regions ...\n",
        "        #   },\n",
        "        #   'size': 100202\n",
        "        # }\n",
        "        # We mostly care about the x and y coordinates of each region\n",
        "        # Note: In VIA 2.0, regions was changed from a dict to a list.\n",
        "        annotations = json.load(open(os.path.join(dataset_dir, subset+\".json\")))\n",
        "        annotations = list(annotations.values())  # don't need the dict keys\n",
        "        \n",
        "        # The VIA tool saves images in the JSON even if they don't have any\n",
        "        # annotations. Skip unannotated images.\n",
        "        annotations = [a for a in annotations if a['regions']]\n",
        "        \n",
        "        # Add images\n",
        "        for a in annotations:\n",
        "            # Get the x, y coordinaets of points of the polygons that make up\n",
        "            # the outline of each object instance. These are stores in the\n",
        "            # shape_attributes (see json format above)\n",
        "            # The if condition is needed to support VIA versions 1.x and 2.x.\n",
        "            if type(a['regions']) is dict:\n",
        "                polygons = [r['shape_attributes'] for r in a['regions'].values()]\n",
        "            else:\n",
        "                polygons = [r['shape_attributes'] for r in a['regions']]\n",
        "            \n",
        "            #===================================================================\n",
        "            label_cls = [r['region_attributes']['OralCancer'] for r in a['regions']]\n",
        "            class_ids = {'G': 1,\n",
        "                    'Y': 2,\n",
        "                    'R': 3}\n",
        "            label_ids = [class_ids[a] for a in label_cls]\n",
        "            #===================================================================\n",
        "            \n",
        "            # load_mask() needs the image size to convert polygons to masks.\n",
        "            # Unfortunately, VIA doesn't include it in JSON, so we must read\n",
        "            # the image. This is only managable since the dataset is tiny.\n",
        "            image_path = os.path.join(dataset_dir, a['filename'])\n",
        "            image = skimage.io.imread(image_path)\n",
        "            height, width = image.shape[:2]\n",
        "            \n",
        "            self.add_image(\n",
        "                \"OralCancer\",\n",
        "                image_id=a['filename'],  # use file name as a unique image id\n",
        "                class_ids=label_ids,\n",
        "                path=image_path,\n",
        "                width=width,height=height,\n",
        "                polygons=polygons\n",
        "            )\n",
        "    \n",
        "    def load_mask(self, image_id):\n",
        "        \"\"\"Generate instance masks for an image.\n",
        "       Returns:\n",
        "        masks: A bool array of shape [height, width, instance count] with\n",
        "            one mask per instance.\n",
        "        class_ids: a 1D array of class IDs of the instance masks.\n",
        "        \"\"\"\n",
        "        # If not a oral dataset image, delegate to parent class.\n",
        "        image_info = self.image_info[image_id]\n",
        "        if image_info[\"source\"] != \"OralCancer\":\n",
        "            return super(self.__class__, self).load_mask(image_id)\n",
        "        \n",
        "        class_ids = image_info[\"class_ids\"]\n",
        "        class_ids = np.array(class_ids, dtype=np.int32)\n",
        "\n",
        "        # Convert polygons to a bitmap mask of shape\n",
        "        # [height, width, instance_count]\n",
        "        info = self.image_info[image_id]\n",
        "        mask = np.zeros([info[\"height\"], info[\"width\"], len(info[\"polygons\"])],\n",
        "                        dtype=np.uint8)\n",
        "        for i, p in enumerate(info[\"polygons\"]):\n",
        "            # Get indexes of pixels inside the polygon and set them to 1\n",
        "            rr, cc = skimage.draw.polygon(p['all_points_y'], p['all_points_x'])\n",
        "            mask[rr, cc, i] = 1\n",
        "        \n",
        "        return mask.astype(np.bool_), class_ids\n",
        "\n",
        "    def image_reference(self, image_id):\n",
        "        \"\"\"Return the path of the image.\"\"\"\n",
        "        info = self.image_info[image_id]\n",
        "        if info[\"source\"] == \"OralCancer\":\n",
        "            return info[\"path\"]\n",
        "        else:\n",
        "            super(self.__class__, self).image_reference(image_id)"
      ],
      "execution_count": null,
      "outputs": []
    },
    {
      "cell_type": "code",
      "metadata": {
        "id": "7d3KxiHO_0gb"
      },
      "source": [
        "def train(model):\n",
        "    \"\"\"Train the model.\"\"\"\n",
        "    # Training dataset.\n",
        "    dataset_train = OralDataset()\n",
        "    dataset_train.load_dataset(ROOT_DIR+config.DATASET_DIR, \"train\")\n",
        "    dataset_train.prepare()\n",
        "\n",
        "    # Validation dataset\n",
        "    dataset_val = OralDataset()\n",
        "    dataset_val.load_dataset(ROOT_DIR+config.DATASET_DIR, \"val\")\n",
        "    dataset_val.prepare()\n",
        "\n",
        "    # *** This training schedule is an example. Update to your needs ***\n",
        "    # Since we're using a very small dataset, and starting from\n",
        "    # COCO trained weights, we don't need to train too long. Also,\n",
        "    # no need to train all layers, just the heads should do it.\n",
        "    print(\"Training network heads\")\n",
        "    model.train(dataset_train, dataset_val,\n",
        "          learning_rate=config.LEARNING_RATE,\n",
        "          epochs=config.EPOCH,\n",
        "          layers='heads'\n",
        "    )"
      ],
      "execution_count": null,
      "outputs": []
    },
    {
      "cell_type": "markdown",
      "metadata": {
        "id": "b2bjrfb2LDeo"
      },
      "source": [
        "## Train on the dataset"
      ]
    },
    {
      "cell_type": "code",
      "metadata": {
        "id": "4Qg7zSVOulkb"
      },
      "source": [
        "if __name__ == '__main__':\n",
        "    \n",
        "    # Configurations\n",
        "    config = ModelConfig()\n",
        "    config.display()\n",
        "\n",
        "    # Create model\n",
        "    model = modellib.MaskRCNN(mode=\"training\", config=config, model_dir=config.LOGS_DIR)\n",
        "\n",
        "    # Select weights file to load\n",
        "    if config.WEIGHT.lower() == \"coco\":\n",
        "        weights_path = COCO_WEIGHTS_PATH\n",
        "        # Download weights file\n",
        "        if not os.path.exists(weights_path):\n",
        "            utils.download_trained_weights(weights_path)\n",
        "        # Exclude the last layers because they require a matching\n",
        "        # number of classes\n",
        "        model.load_weights(weights_path, by_name=True, exclude=[\n",
        "                  \"mrcnn_class_logits\", \"mrcnn_bbox_fc\",\n",
        "                  \"mrcnn_bbox\", \"mrcnn_mask\"])\n",
        "    elif config.WEIGHT.lower() == \"imagenet\":\n",
        "        # Start from ImageNet trained weights\n",
        "        weights_path = model.get_imagenet_weights()\n",
        "    elif config.WEIGHT.lower() == \"last\":\n",
        "        # Find last trained weights\n",
        "        weights_path = model.find_last()\n",
        "    else:\n",
        "        weights_path = config.WEIGHT\n",
        "    \n",
        "    # Load weights\n",
        "    print(\"Loading weights \", weights_path)\n",
        "    model.load_weights(weights_path, by_name=True)\n",
        "    \n",
        "    # Train model\n",
        "    train(model)"
      ],
      "execution_count": null,
      "outputs": []
    },
    {
      "cell_type": "markdown",
      "source": [
        "## Exhibit training curves in tensorboard:"
      ],
      "metadata": {
        "id": "Uzyh5l8aL-B_"
      }
    },
    {
      "cell_type": "code",
      "metadata": {
        "id": "hBXeH8UXFcqU"
      },
      "source": [
        "%load_ext tensorboard\n",
        "%tensorboard --logdir config.LOG_DIR"
      ],
      "execution_count": null,
      "outputs": []
    }
  ]
}