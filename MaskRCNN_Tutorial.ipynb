{
  "nbformat": 4,
  "nbformat_minor": 0,
  "metadata": {
    "colab": {
      "name": "MaskRCNN_Tutorial.ipynb",
      "provenance": [],
      "collapsed_sections": [],
      "include_colab_link": true
    },
    "kernelspec": {
      "name": "python3",
      "display_name": "Python 3"
    },
    "accelerator": "GPU"
  },
  "cells": [
    {
      "cell_type": "markdown",
      "metadata": {
        "id": "view-in-github",
        "colab_type": "text"
      },
      "source": [
        "<a href=\"https://colab.research.google.com/github/Queuzy/MaskRCNN_Tutorial/blob/main/MaskRCNN_Tutorial.ipynb\" target=\"_parent\"><img src=\"https://colab.research.google.com/assets/colab-badge.svg\" alt=\"Open In Colab\"/></a>"
      ]
    },
    {
      "cell_type": "markdown",
      "metadata": {
        "id": "QHnVupBBn9eR"
      },
      "source": [
        "# Mask R-CNN Beginner's Tutorial\n"
      ]
    },
    {
      "cell_type": "markdown",
      "metadata": {
        "id": "vM54r6jlKTII"
      },
      "source": [
        "## Install Google drive\n"
      ]
    },
    {
      "cell_type": "code",
      "metadata": {
        "id": "FsePPpwZSmqt"
      },
      "source": [
        "# Connect Google drive with authentication\n",
        "from google.colab import drive\n",
        "drive.mount(\"/content/gdrive\", force_remount=True)\n",
        "\n",
        "\n",
        "# Set root directory of the project\n",
        "import os, sys, datetime\n",
        "ROOT_DIR = \"/content/gdrive/MyDrive/MaskRCNN_Tutorial\"\n",
        "sys.path.insert(0, ROOT_DIR)\n",
        "%ls $ROOT_DIR # List file info of root dir\n",
        "\n",
        "\n",
        "# Set training phase with time stamp\n",
        "train_phase = \"OralCancer_{:%Y%m%dT%H%M}\".format(datetime.datetime.now())\n",
        "print(\"\\n[Info] Set training phase: {}\".format(train_phase))"
      ],
      "execution_count": null,
      "outputs": []
    },
    {
      "cell_type": "markdown",
      "source": [
        "## Import required library"
      ],
      "metadata": {
        "id": "kK_-RBawT9HO"
      }
    },
    {
      "cell_type": "code",
      "metadata": {
        "id": "ZyAvNCJMmvFF"
      },
      "source": [
        "# Import common Python library\n",
        "import json\n",
        "import skimage\n",
        "import numpy as np\n",
        "\n",
        "# Import Mask RCNN from custom package\n",
        "from mrcnn import utils\n",
        "from mrcnn import visualize\n",
        "from mrcnn.model import log\n",
        "from mrcnn.config import Config\n",
        "from mrcnn import model as modellib"
      ],
      "execution_count": null,
      "outputs": []
    },
    {
      "cell_type": "markdown",
      "metadata": {
        "id": "Vk4gID50K03a"
      },
      "source": [
        "## Configurations"
      ]
    },
    {
      "cell_type": "markdown",
      "metadata": {
        "id": "JgKyUL4pngvE"
      },
      "source": [
        "1. Set model configuration by the ModelConfig class."
      ]
    },
    {
      "cell_type": "code",
      "metadata": {
        "id": "dq9GY37ml1kr"
      },
      "source": [
        "class ModelConfig(Config):\n",
        "    \"\"\"Configuration for training on the dataset.\n",
        "     - Derives from the base Config class and overrides some values.\n",
        "    \"\"\"\n",
        "    # Configuration of recognizable namespace\n",
        "    NAME = \"OralCancer\"\n",
        "\n",
        "    # Directory of specific dataset\n",
        "    DATASET_DIR = ROOT_DIR + \"/DATASET/DATA_220624\"\n",
        "    \n",
        "    # Directory to save training logs and checkpoints\n",
        "    LOG_DIR = ROOT_DIR + \"/LOG/\" + train_phase\n",
        "    \n",
        "    # Directory to save output files\n",
        "    OUTPUT_DIR = ROOT_DIR + \"/OUTPUT/\" + train_phase\n",
        "    \n",
        "    # Number of training epochs\n",
        "    EPOCH = 10\n",
        "    \n",
        "    # Number of training steps per epoch\n",
        "    STEPS_PER_EPOCH = 10\n",
        "\n",
        "    # Initial weight selection\n",
        "    # [Option]: coco, imagenet, last, <trained_path>.\n",
        "    WEIGHT = \"coco\"\n",
        "    \n",
        "    # Batch size: Adjust according to GPU capacity.\n",
        "    IMAGES_PER_GPU = 2\n",
        "\n",
        "    # Number of classes (including background)\n",
        "    NUM_CLASSES = 1 + 3  # Background + number of classes\n",
        "\n",
        "    # Skip detections with < 90% confidence\n",
        "    DETECTION_MIN_CONFIDENCE = 0.9\n"
      ],
      "execution_count": null,
      "outputs": []
    },
    {
      "cell_type": "markdown",
      "metadata": {
        "id": "uM1thbN-ntjI"
      },
      "source": [
        "2. Dataset configuration for loading source images and annotations."
      ]
    },
    {
      "cell_type": "code",
      "metadata": {
        "id": "HUjkwRsOn1O0"
      },
      "source": [
        "class OralDataset(utils.Dataset):\n",
        "\n",
        "    def load_dataset(self, dataset_dir, subset):\n",
        "        \"\"\" Load a subset of the dataset.\n",
        "        dataset_dir: Root directory of the dataset.\n",
        "        subset: Subset to load (train, val or test).\n",
        "        \"\"\"\n",
        "        \n",
        "        # Build class info list\n",
        "        Source = config.NAME\n",
        "        self.add_class(Source, 1, \"G\")\n",
        "        self.add_class(Source, 2, \"Y\")\n",
        "        self.add_class(Source, 3, \"R\")\n",
        "        print(\"\\n[INFO] self.class_info: \\n{}\".format(self.class_info))\n",
        "        \n",
        "        # Train, validation or testing dataset?\n",
        "        assert subset in [\"train\", \"val\", \"test\"], \"Please choose from train/val/test set.\"\n",
        "        dataset_dir = os.path.join(dataset_dir, subset)\n",
        "        \n",
        "        # Load annotations\n",
        "        # VGG Image Annotator (up to version 2.0.11) saves each image in the form:\n",
        "        # {\n",
        "        #   \"filename_ex.jpg83251\": {\n",
        "        #     \"filename\": \"filename_ex.jpg\",\n",
        "        #     \"size\": 83251,\n",
        "        #     \"regions\": [\n",
        "        #       {\n",
        "        #         \"shape_attributes\": {\n",
        "        #           \"name\": \"polygon\",\n",
        "        #           \"all_points_x\": [...],\n",
        "        #           \"all_points_y\": [...]\n",
        "        #         },\n",
        "        #         \"region_attributes\": {\n",
        "        #           \"OralCancer\": \"R\"\n",
        "        #         }\n",
        "        #       }\n",
        "        #     ],\n",
        "        #     \"file_attributes\": {}\n",
        "        #   },\n",
        "        #   {...}\n",
        "        # }\n",
        "        \n",
        "        # Note: In VIA 2.0, regions was changed from a dict to a list.\n",
        "        annotations = json.load(open(os.path.join(dataset_dir, subset+\".json\")))\n",
        "        annotations = list(annotations.values())  # Remove the dict keys\n",
        "        \n",
        "        # The VIA tool saves images in the JSON even if they don't have any annotations.\n",
        "        # Skip unannotated images.\n",
        "        annotations = [a for a in annotations if a['regions']]\n",
        "\n",
        "        # Parse annotation info and append as data queue\n",
        "        for a in annotations:\n",
        "            # Get the x, y coordinaets of points of the polygons that make up\n",
        "            # the outline of each object instance. These are stored in the\n",
        "            # shape_attributes. (See json format above)\n",
        "            # The if condition is needed to support VIA versions 1.x and 2.x.\n",
        "            if type(a['regions']) is dict:\n",
        "                polygons = [r['shape_attributes'] for r in a['regions'].values()]\n",
        "            else:\n",
        "                polygons = [r['shape_attributes'] for r in a['regions']]\n",
        "            \n",
        "            # Encode class name by class ID\n",
        "            label_cls = [r['region_attributes'][Source] for r in a['regions']]\n",
        "            class_ids = {'G': 1, 'Y': 2, 'R': 3}\n",
        "            label_ids = [class_ids[a] for a in label_cls]\n",
        "            \n",
        "            # load_mask() needs the image size to convert polygons to masks.\n",
        "            # Unfortunately, VIA doesn't include it in JSON, so we must read\n",
        "            # the image. This is only managable since the dataset is tiny.\n",
        "            # Perhaps you have to consider write size info within preprocessing.\n",
        "            image_path = os.path.join(dataset_dir, a['filename'])\n",
        "            image = skimage.io.imread(image_path)\n",
        "            height, width = image.shape[:2]\n",
        "            \n",
        "            self.add_image(\n",
        "                Source,\n",
        "                image_id=a['filename'], # use file name as a unique image id\n",
        "                class_ids=label_ids,\n",
        "                path=image_path,\n",
        "                width=width,height=height,\n",
        "                polygons=polygons\n",
        "            )\n",
        "    \n",
        "    def load_mask(self, image_id):\n",
        "        \"\"\"Generate instance masks for an image.\n",
        "        Returns:\n",
        "        masks: A bool array of shape [height, width, instance count] with\n",
        "            one mask per instance.\n",
        "        class_ids: a 1D array of class IDs of the instance masks.\n",
        "        \"\"\"\n",
        "        # If not a oral dataset image, delegate to parent class.\n",
        "        image_info = self.image_info[image_id]\n",
        "        if image_info[\"source\"] != config.NAME:\n",
        "            return super(self.__class__, self).load_mask(image_id)\n",
        "        \n",
        "        class_ids = image_info[\"class_ids\"]\n",
        "        class_ids = np.array(class_ids, dtype=np.int32)\n",
        "\n",
        "        # Convert polygons to a bitmap mask of shape\n",
        "        # [height, width, instance_count]\n",
        "        info = self.image_info[image_id]\n",
        "        mask = np.zeros([info[\"height\"], info[\"width\"], len(info[\"polygons\"])],\n",
        "                        dtype=np.uint8)\n",
        "        for i, p in enumerate(info[\"polygons\"]):\n",
        "            # Get indexes of pixels inside the polygon and set them to 1\n",
        "            rr, cc = skimage.draw.polygon(p['all_points_y'], p['all_points_x'])\n",
        "            mask[rr, cc, i] = 1\n",
        "        \n",
        "        return mask.astype(np.bool_), class_ids\n",
        "\n",
        "    def image_reference(self, image_id):\n",
        "        \"\"\"Return the path of the image.\"\"\"\n",
        "        info = self.image_info[image_id]\n",
        "        if info[\"source\"] == config.NAME:\n",
        "            return info[\"path\"]\n",
        "        else:\n",
        "            super(self.__class__, self).image_reference(image_id)"
      ],
      "execution_count": null,
      "outputs": []
    },
    {
      "cell_type": "markdown",
      "source": [
        "## Develop training progress"
      ],
      "metadata": {
        "id": "lYyG2nHTOhZ3"
      }
    },
    {
      "cell_type": "code",
      "metadata": {
        "id": "7d3KxiHO_0gb"
      },
      "source": [
        "def train(model):\n",
        "    # Load training dataset\n",
        "    dataset_train = OralDataset()\n",
        "    dataset_train.load_dataset(config.DATASET_DIR, \"train\")\n",
        "    dataset_train.prepare()\n",
        "\n",
        "    # Constrain the size of training dataset,\n",
        "    # since the computational amount of Colab is pathetic lol.\n",
        "    # image_id = random.choice(dataset_test.image_ids, 9)\n",
        "    dataset_train = random.choice(dataset_train, 50)\n",
        "    print('\\nSize of train set = {}'.format(len(dataset_train)))\n",
        "\n",
        "    # Load validation dataset\n",
        "    dataset_val = OralDataset()\n",
        "    dataset_val.load_dataset(config.DATASET_DIR, \"val\")\n",
        "    dataset_val.prepare()\n",
        "    print('\\nSize of val set = {}'.format(len(dataset_val)))\n",
        "\n",
        "    # *** This training schedule is an example. Update to your needs ***\n",
        "    # Since we're using a very small dataset, and starting from\n",
        "    # COCO trained weights, we don't need to train too long.\n",
        "    # Also, no need to train all layers, just the heads should do it.\n",
        "    print(\"Training network heads\")\n",
        "    \n",
        "    model.train(dataset_train, dataset_val,\n",
        "          learning_rate=config.LEARNING_RATE,\n",
        "          epochs=config.EPOCH,\n",
        "          layers='heads'\n",
        "    )"
      ],
      "execution_count": null,
      "outputs": []
    },
    {
      "cell_type": "markdown",
      "metadata": {
        "id": "b2bjrfb2LDeo"
      },
      "source": [
        "## Train on the dataset"
      ]
    },
    {
      "cell_type": "code",
      "metadata": {
        "id": "4Qg7zSVOulkb"
      },
      "source": [
        "if __name__ == '__main__':\n",
        "    \n",
        "    # Load configuration of parameters\n",
        "    config = ModelConfig()\n",
        "    config.display()\n",
        "\n",
        "    # Build prototype of model\n",
        "    model = modellib.MaskRCNN(mode=\"training\", config=config, model_dir=config.LOG_DIR)\n",
        "\n",
        "    # Select initial weights type to load\n",
        "    if config.WEIGHT.lower() == \"coco\":\n",
        "        weights_path = \"mask_rcnn_coco.h5\" #COCO_WEIGHTS_PATH\n",
        "        # Download weights file\n",
        "        if not os.path.exists(weights_path):\n",
        "            utils.download_trained_weights(weights_path)\n",
        "    elif config.WEIGHT.lower() == \"imagenet\":\n",
        "        # Start from ImageNet trained weights\n",
        "        weights_path = model.get_imagenet_weights()\n",
        "    elif config.WEIGHT.lower() == \"last\":\n",
        "        # Find last trained weights\n",
        "        weights_path = model.find_last()\n",
        "    else:\n",
        "        weights_path = config.WEIGHT\n",
        "    \n",
        "    # Load initial weights\n",
        "    print(\"Loading weights \", weights_path)\n",
        "    if config.WEIGHT.lower() == \"coco\":\n",
        "        # Exclude the last layers because they require a matching\n",
        "        # number of classes\n",
        "        model.load_weights(weights_path, by_name=True, exclude=[\n",
        "                  \"mrcnn_class_logits\", \"mrcnn_bbox_fc\",\n",
        "                  \"mrcnn_bbox\", \"mrcnn_mask\"])\n",
        "    else:\n",
        "      model.load_weights(weights_path, by_name=True)\n",
        "    \n",
        "    # Train model\n",
        "    train(model)"
      ],
      "execution_count": null,
      "outputs": []
    },
    {
      "cell_type": "markdown",
      "source": [
        "## Exhibit training curves via **Tensorboard**:"
      ],
      "metadata": {
        "id": "Uzyh5l8aL-B_"
      }
    },
    {
      "cell_type": "code",
      "metadata": {
        "id": "hBXeH8UXFcqU"
      },
      "source": [
        "%load_ext tensorboard\n",
        "#%reload_ext tensorboard # Reload if loaded once\n",
        "%tensorboard --logdir $config.LOG_DIR"
      ],
      "execution_count": null,
      "outputs": []
    },
    {
      "cell_type": "markdown",
      "source": [
        "## Start **testing** progress\n"
      ],
      "metadata": {
        "id": "32KTF8QrJlX-"
      }
    },
    {
      "cell_type": "code",
      "source": [
        "import matplotlib\n",
        "import matplotlib.pyplot as plt\n",
        "import matplotlib.patches as patches\n",
        "\n",
        "# [Param] Choose specific model weight\n",
        "# MODEL_PATH = os.path.join(config.LOG_DIR, \"./oralcancer20220624T1332/mask_rcnn_OralCancer_0036.h5\")\n",
        "MODEL_PATH = \"\" # Default, choosed by the last\n",
        "\n",
        "# Create output directory\n",
        "os.makedirs(config.OUTPUT_DIR, exist_ok=True)\n",
        "\n",
        "# Override the training configurations with a few\n",
        "# changes for inferencing.\n",
        "class InferenceConfig(config.__class__):\n",
        "    # Run detection on one image at a time\n",
        "    IMAGES_PER_GPU = 1\n",
        "config = InferenceConfig()\n",
        "config.display()\n",
        "\n",
        "def get_ax(rows=1, cols=1, size=8):\n",
        "    # Return a Matplotlib Axes array to be used in\n",
        "    # all visualizations in the notebook.\n",
        "    # Provide a central point to control graph sizes.\n",
        "    # Adjust the size attribute to control how big to render images.\n",
        "    \n",
        "    _, ax = plt.subplots(rows, cols, figsize=(size*cols, size*rows))\n",
        "    return ax\n",
        "\n",
        "# Load test dataset\n",
        "dataset_test = OralDataset()\n",
        "dataset_test.load_dataset(config.DATASET_DIR, \"test\")\n",
        "dataset_test.prepare()\n",
        "\n",
        "# Load testing model weights\n",
        "model = modellib.MaskRCNN(mode=\"inference\", config=config, model_dir=config.LOG_DIR)\n",
        "\n",
        "if MODEL_PATH != \"\":\n",
        "    weights_path = MODEL_PATH\n",
        "else:\n",
        "    weights_path = model.find_last()\n",
        "\n",
        "print(\"Loading weights \", weights_path)\n",
        "model.load_weights(weights_path, by_name=True)\n",
        "\n",
        "# Initial gt and prediction lists\n",
        "gt_tot_per_image = np.array([])\n",
        "pred_tot_per_image = np.array([])\n",
        "\n",
        "# Initial mAP list\n",
        "mAP_ = []\n",
        "mprecision_ = []\n",
        "mrecall_ = []\n",
        "mdice = []\n",
        "class_names = []\n",
        "class_names_index = []\n",
        "APs = []\n",
        "count1 = 0"
      ],
      "metadata": {
        "id": "47Uv-9tt-DmS"
      },
      "execution_count": null,
      "outputs": []
    },
    {
      "cell_type": "markdown",
      "source": [
        "## Load and inference on testing dataset"
      ],
      "metadata": {
        "id": "Onv4R9u3OBPb"
      }
    },
    {
      "cell_type": "code",
      "source": [
        "for image_id in dataset_test.image_ids:\n",
        "    # Load ground truth of testing samples\n",
        "    image, image_meta, gt_class_id, gt_bbox, gt_mask = modellib.load_image_gt(dataset_test, config, image_id)\n",
        "    info = dataset_test.image_info[image_id]\n",
        "    \n",
        "    # Show image ID and gt info\n",
        "    print(\"\\nImage ID: {}\\n\".format(info[\"id\"]))\n",
        "    log(\"gt_class_id\", gt_class_id)\n",
        "    log(\"gt_bbox\", gt_bbox)\n",
        "    log(\"gt_mask\", gt_mask)\n",
        "    \n",
        "    # Inference on testing sample\n",
        "    molded_image = np.expand_dims(image, 0)\n",
        "    results = model.detect(molded_image, verbose=0)\n",
        "\n",
        "    # Get results\n",
        "    ax = get_ax()\n",
        "    r = results[0]\n",
        "    \n",
        "    # Concatenate all materials for confusion matrix\n",
        "    if count1 == 0:\n",
        "        # Concatenate gt and predicted class ID, bbox, mask for first time\n",
        "        concat_gt_class_id, concat_gt_bbox, concat_gt_mask = gt_class_id, gt_bbox, gt_mask\n",
        "        concat_r_rois, concat_r_masks, concat_r_class_ids, concat_r_scores = r['rois'], r['masks'], r['class_ids'], r['scores']\n",
        "    else:\n",
        "        # Concatenate gt class, bbox, mask\n",
        "        concat_gt_class_id = np.concatenate((concat_gt_class_id, gt_class_id), axis=0)\n",
        "        concat_gt_bbox = np.concatenate((concat_gt_bbox, gt_bbox), axis=0)\n",
        "        concat_gt_mask = np.concatenate((concat_gt_mask, gt_mask), axis=2)\n",
        "        # Concatenate predicted class, bbox, mask\n",
        "        concat_r_rois = np.concatenate((concat_r_rois, r['rois']), axis=0)\n",
        "        concat_r_masks = np.concatenate((concat_r_masks, r['masks']), axis=2)\n",
        "        concat_r_class_ids = np.concatenate((concat_r_class_ids, r['class_ids']), axis=0)\n",
        "        concat_r_scores = np.concatenate((concat_r_scores, r['scores']), axis=0)\n",
        "    count1 += 1\n",
        "    \n",
        "    # Accumulate total gt and total prediction per image    \n",
        "    if len(gt_class_id) == 0 and len(r['class_ids']) > 0:\n",
        "        gt_tot_per_image = np.append(gt_tot_per_image, np.array(0))\n",
        "        pred_tot_per_image = np.append(pred_tot_per_image, np.max(r['class_ids']))\n",
        "        cls = np.max(r['class_ids'])\n",
        "        if dataset_test.class_names[int(cls)] not in class_names:\n",
        "            class_names.append(dataset_test.class_names[int(cls)])\n",
        "            class_names_index.append(int(cls))            \n",
        "    elif len(gt_class_id) > 0 and len(r['class_ids']) == 0:\n",
        "        gt_tot_per_image = np.append(gt_tot_per_image, np.max(gt_class_id))\n",
        "        pred_tot_per_image = np.append(pred_tot_per_image, np.array(0))\n",
        "        cls = np.max(gt_class_id)\n",
        "        if dataset_test.class_names[int(cls)] not in class_names:\n",
        "            class_names.append(dataset_test.class_names[0])\n",
        "            class_names_index.append(0)            \n",
        "    elif len(r['class_ids']) == 0 and len(gt_class_id) == 0:\n",
        "        gt_tot_per_image = np.append(gt_tot_per_image, np.array(0))\n",
        "        pred_tot_per_image = np.append(pred_tot_per_image, np.array(0))\n",
        "        if dataset_test.class_names[0] not in class_names:\n",
        "            class_names.append(dataset_test.class_names[0])\n",
        "            class_names_index.append(0)            \n",
        "    else:\n",
        "        gt_tot_per_image = np.append(gt_tot_per_image, np.max(gt_class_id))\n",
        "        pred_tot_per_image = np.append(pred_tot_per_image, np.max(r['class_ids']))\n",
        "        cls = np.max(gt_class_id)\n",
        "        if dataset_test.class_names[int(cls)] not in class_names:\n",
        "            class_names.append(dataset_test.class_names[int(cls)])\n",
        "            class_names_index.append(int(cls))\n",
        "    \n",
        "    # Calculate dice score of each class\n",
        "    dice = []\n",
        "    cls_index = []\n",
        "    \n",
        "    for m, cls_name in enumerate(r['class_ids']):\n",
        "        cls_index.append(cls_name)\n",
        "\n",
        "    for j in range(len(gt_class_id)):\n",
        "        gt = gt_class_id[j].astype(np.int32) * np.array(gt_mask.astype(np.int32)[:,:,j])\n",
        "        for k in range(len(cls_index)):\n",
        "            seg = cls_index[k].astype(np.int32) * r[\"masks\"].astype(np.int32)[:,:,k]\n",
        "            score = np.sum(seg[gt==gt_class_id[j].astype(np.int32)])*2.0 / (np.sum(seg) + np.sum(gt))\n",
        "            if score <= 1:\n",
        "                dice.append(score)\n",
        "    \n",
        "    if np.mean(dice) <= 1:\n",
        "        print('\\nMean dice similarity score is {}'.format(np.mean(dice)))\n",
        "        mdice.append(np.mean(dice))\n",
        "    \n",
        "    # Calculate average precision\n",
        "    AP, precisions, recalls, overlaps = utils.compute_ap(gt_bbox, gt_class_id, gt_mask, r['rois'], r['class_ids'], r['scores'], r['masks'])\n",
        "    APs.append(AP)\n",
        "    \n",
        "    # Output predicted mask results\n",
        "    image_display = visualize.display_instances(config.OUTPUT_DIR, info[\"id\"], image, r['rois'], r['masks'], r['class_ids'], dataset_test.class_names, r['scores'], ax=ax)\n",
        "    plt.imshow(image_display)\n",
        "    plt.savefig(\"{}/{}\".format(config.OUTPUT_DIR, str(info[\"id\"])))\n",
        "    plt.show()\n",
        "    plt.close()"
      ],
      "metadata": {
        "id": "2ygoNYHsDTnN"
      },
      "execution_count": null,
      "outputs": []
    },
    {
      "cell_type": "markdown",
      "source": [
        "## Plot evaluation figures"
      ],
      "metadata": {
        "id": "PoUqOcrINrFQ"
      }
    },
    {
      "cell_type": "code",
      "source": [
        "import seaborn as sn\n",
        "from pandas import DataFrame\n",
        "from sklearn.metrics import confusion_matrix\n",
        "\n",
        "# Print mAP and mean dice scores\n",
        "print(\"mAP @ IoU=50: \", np.mean(APs))\n",
        "print(\"mean Dice score: \", np.mean(mdice))\n",
        "\n",
        "# (1) Plot confusion matrix\n",
        "print('\\n[Fig] Confusion matrix')\n",
        "\n",
        "y_test = np.array(gt_tot_per_image)\n",
        "predictions = np.array(pred_tot_per_image)\n",
        "\n",
        "confm = confusion_matrix(y_test, predictions)\n",
        "df_cm = DataFrame(confm, index=[dataset_test.class_names], columns=[dataset_test.class_names])\n",
        "\n",
        "sn.set(font_scale=1.4)\n",
        "sn.heatmap(df_cm, annot=True, cmap='Blues', fmt='g')\n",
        "\n",
        "plt.title('Confusion matrix (per image)')\n",
        "plt.savefig(config.OUTPUT_DIR+\"/Confusion_matrix.png\")\n",
        "plt.show()\n",
        "plt.close()\n",
        "\n",
        "# (2) Calculate F1 scores & plot Precision-Recall curve \n",
        "print('\\n[Fig] Precision-Recall curve')\n",
        "\n",
        "fig, ax = plt.subplots(1, 1, figsize=(9, 6), tight_layout=True)\n",
        "\n",
        "# Customized color list\n",
        "colorlist = ['Green', 'Yellow', 'Red']\n",
        "F1_scores = []\n",
        "\n",
        "for class_id in range(1, len(dataset_test.class_names)):\n",
        "    mAP, precisions, recalls, _ =\\\n",
        "            utils.compute_ap_pre_class(concat_gt_bbox, concat_gt_class_id, concat_gt_mask, concat_r_rois, concat_r_class_ids, concat_r_scores, concat_r_masks, class_id)\n",
        "    mAR, _ = utils.compute_recall(concat_r_rois, concat_gt_bbox, iou=0.5) \n",
        "    \n",
        "    F1_scores = (2* (np.mean(precisions) * np.mean(recalls)))/(np.mean(precisions) + np.mean(recalls))\n",
        "    ax.plot(recalls, precisions, color = colorlist[class_id], label=dataset_test.class_names[class_id] + ' mAP=%.2f, F1 score=%.2f' % (mAP, F1_scores))\n",
        "\n",
        "ax.set_xlabel('Recall (False Positive Rate)')\n",
        "ax.set_ylabel('Precision (True Positive Rate)')\n",
        "ax.set_xlim(0, 1)\n",
        "ax.set_ylim(0, 1)\n",
        "\n",
        "ax.legend(loc=\"upper right\", prop={'size': 12})\n",
        "\n",
        "mmAP, mprecisions, mrecalls, overlaps =\\\n",
        "            utils.compute_ap(concat_gt_bbox, concat_gt_class_id, concat_gt_mask,\n",
        "                     concat_r_rois, concat_r_class_ids, concat_r_scores, concat_r_masks)\n",
        "mmAR, _ = utils.compute_recall(concat_r_rois, concat_gt_bbox, iou=0.5) \n",
        "F1_scores = (2* (np.mean(mprecisions) * np.mean(mrecalls)))/(np.mean(mprecisions) + np.mean(mrecalls))\n",
        "ax.plot(mrecalls, mprecisions, color = 'Blue', label='Total mAP=%.2f, F1 score=%.2f, Mean dice similarity score=%.2f' % (mmAP, F1_scores, np.mean(mdice)))\n",
        "\n",
        "plt.legend()\n",
        "plt.title('Precision-Recall curve')\n",
        "plt.savefig(config.OUTPUT_DIR+\"/PR_curve.png\")\n",
        "plt.show()\n",
        "plt.close()"
      ],
      "metadata": {
        "id": "jzTMT1Q0DYir"
      },
      "execution_count": null,
      "outputs": []
    }
  ]
}