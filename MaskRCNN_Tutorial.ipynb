{
  "nbformat": 4,
  "nbformat_minor": 0,
  "metadata": {
    "colab": {
      "name": "MaskRCNN_Tutorial.ipynb",
      "provenance": [],
      "collapsed_sections": []
    },
    "kernelspec": {
      "name": "python3",
      "display_name": "Python 3"
    },
    "accelerator": "GPU"
  },
  "cells": [
    {
      "cell_type": "markdown",
      "metadata": {
        "id": "QHnVupBBn9eR"
      },
      "source": [
        "# Mask R-CNN Beginner's Tutorial\n"
      ]
    },
    {
      "cell_type": "markdown",
      "metadata": {
        "id": "vM54r6jlKTII"
      },
      "source": [
        "## Install Google drive\n"
      ]
    },
    {
      "cell_type": "code",
      "metadata": {
        "id": "FsePPpwZSmqt"
      },
      "source": [
        "from google.colab import drive\n",
        "import sys, datetime\n",
        "\n",
        "# Connect Google drive with authentication\n",
        "drive.mount(\"/content/gdrive\", force_remount=True)\n",
        "\n",
        "# Set root dir of the project\n",
        "ROOT_DIR = \"/content/gdrive/MyDrive/MaskRCNN_Tutorial/\"\n",
        "sys.path.insert(0, ROOT_DIR)\n",
        "# List file information in the path\n",
        "%ls $ROOT_DIR\n",
        "\n",
        "# Set training phase with time stamp\n",
        "train_phase = \"OralCancer_{:%Y%m%dT%H%M}\".format(datetime.datetime.now())\n",
        "print(\"\\nSet training phase: {}\".format(train_phase))"
      ],
      "execution_count": null,
      "outputs": []
    },
    {
      "cell_type": "markdown",
      "source": [
        "## Import required library"
      ],
      "metadata": {
        "id": "kK_-RBawT9HO"
      }
    },
    {
      "cell_type": "code",
      "metadata": {
        "id": "ZyAvNCJMmvFF"
      },
      "source": [
        "# Import library\n",
        "import os\n",
        "import json\n",
        "import skimage.draw\n",
        "import numpy as np\n",
        "from google.colab.patches import cv2_imshow\n",
        "\n",
        "# Import Mask RCNN\n",
        "from mrcnn import utils\n",
        "from mrcnn import visualize\n",
        "from mrcnn.model import log\n",
        "from mrcnn.config import Config\n",
        "from mrcnn import model as modellib"
      ],
      "execution_count": null,
      "outputs": []
    },
    {
      "cell_type": "markdown",
      "metadata": {
        "id": "Vk4gID50K03a"
      },
      "source": [
        "## Configurations"
      ]
    },
    {
      "cell_type": "markdown",
      "metadata": {
        "id": "JgKyUL4pngvE"
      },
      "source": [
        "1. Set model configuration by the ModelConfig class."
      ]
    },
    {
      "cell_type": "code",
      "metadata": {
        "id": "dq9GY37ml1kr"
      },
      "source": [
        "class ModelConfig(Config):\n",
        "    \"\"\"Configuration for training on the oral dataset.\n",
        "    Derives from the base Config class and overrides some values.\n",
        "    \"\"\"\n",
        "    # Give the configuration a recognizable name\n",
        "    NAME = \"OralCancer\"\n",
        "\n",
        "    # Set specific dataset dir\n",
        "    DATASET_DIR = ROOT_DIR + \"DATASET/DATA_220624\"\n",
        "    \n",
        "    # Number of training epochs\n",
        "    EPOCH = 10\n",
        "    \n",
        "    # Number of training steps per epoch\n",
        "    STEPS_PER_EPOCH = 10\n",
        "\n",
        "    # Weight\n",
        "    WEIGHT = \"coco\"\n",
        "    # [Option]: \"coco\", \"imagenet\", \"last\", \"<trained>\"\n",
        "    \n",
        "    # Directory to save logs and model checkpoints\n",
        "    LOGS_DIR = ROOT_DIR + \"LOG\"\n",
        "    \n",
        "    # Batch size\n",
        "    # We use a GPU with 12GB memory, which can fit two images.\n",
        "    # Adjust down if you use a smaller GPU.\n",
        "    IMAGES_PER_GPU = 3\n",
        "\n",
        "    # Number of classes (including background)\n",
        "    NUM_CLASSES = 1 + 3  # Background + number of classes\n",
        "\n",
        "    # Skip detections with < 90% confidence\n",
        "    DETECTION_MIN_CONFIDENCE = 0.9\n"
      ],
      "execution_count": null,
      "outputs": []
    },
    {
      "cell_type": "markdown",
      "metadata": {
        "id": "uM1thbN-ntjI"
      },
      "source": [
        "2. Dataset configuration for loading source images and annotations."
      ]
    },
    {
      "cell_type": "code",
      "metadata": {
        "id": "HUjkwRsOn1O0"
      },
      "source": [
        "class OralDataset(utils.Dataset):\n",
        "\n",
        "    def load_dataset(self, dataset_dir, subset):\n",
        "        \"\"\" Load a subset of the oral dataset.\n",
        "        dataset_dir: Root directory of the dataset.\n",
        "        subset: Subset to load: train or val\n",
        "        \"\"\"\n",
        "        # Add classes according to the numbe of classes required to detect\n",
        "        self.add_class(\"OralCancer\", 1, \"G\")\n",
        "        self.add_class(\"OralCancer\", 2, \"Y\")\n",
        "        self.add_class(\"OralCancer\", 3, \"R\")\n",
        "        print(\"\\n[INFO] self.class_info: \\n{}\".format(self.class_info))\n",
        "        \n",
        "        # Train or validation dataset?\n",
        "        assert subset in [\"train\", \"val\", \"test\"]\n",
        "        dataset_dir = os.path.join(dataset_dir, subset)\n",
        "        \n",
        "        # Load annotations\n",
        "        # VGG Image Annotator (up to version 1.6) saves each image in the form:\n",
        "        # { 'filename': '28503151_5b5b7ec140_b.jpg',\n",
        "        #   'regions': {\n",
        "        #       '0': {\n",
        "        #           'region_attributes': {},\n",
        "        #           'shape_attributes': {\n",
        "        #               'all_points_x': [...],\n",
        "        #               'all_points_y': [...],\n",
        "        #               'name': 'polygon'}},\n",
        "        #       ... more regions ...\n",
        "        #   },\n",
        "        #   'size': 100202\n",
        "        # }\n",
        "        # We mostly care about the x and y coordinates of each region\n",
        "        \n",
        "        # Note: In VIA 2.0, regions was changed from a dict to a list.\n",
        "        annotations = json.load(open(os.path.join(dataset_dir, subset+\".json\")))\n",
        "        annotations = list(annotations.values())  # Remove the dict keys\n",
        "        \n",
        "        # The VIA tool saves images in the JSON even if they don't have any annotations.\n",
        "        # Skip unannotated images.\n",
        "        annotations = [a for a in annotations if a['regions']]\n",
        "        \n",
        "        # Add images\n",
        "        for a in annotations:\n",
        "            # Get the x, y coordinaets of points of the polygons that make up\n",
        "            # the outline of each object instance. These are stores in the\n",
        "            # shape_attributes (see json format above)\n",
        "            # The if condition is needed to support VIA versions 1.x and 2.x.\n",
        "            if type(a['regions']) is dict:\n",
        "                polygons = [r['shape_attributes'] for r in a['regions'].values()]\n",
        "            else:\n",
        "                polygons = [r['shape_attributes'] for r in a['regions']]\n",
        "            \n",
        "            # Read labeled class name\n",
        "            label_cls = [r['region_attributes']['OralCancer'] for r in a['regions']]\n",
        "            # Encode class name by class ID\n",
        "            class_ids = {'G': 1,\n",
        "                    'Y': 2,\n",
        "                    'R': 3}\n",
        "            label_ids = [class_ids[a] for a in label_cls]\n",
        "            \n",
        "            # load_mask() needs the image size to convert polygons to masks.\n",
        "            # Unfortunately, VIA doesn't include it in JSON, so we must read\n",
        "            # the image. This is only managable since the dataset is tiny.\n",
        "            image_path = os.path.join(dataset_dir, a['filename'])\n",
        "            image = skimage.io.imread(image_path)\n",
        "            height, width = image.shape[:2]\n",
        "            \n",
        "            self.add_image(\n",
        "                \"OralCancer\",\n",
        "                image_id=a['filename'], # use file name as a unique image id\n",
        "                class_ids=label_ids,\n",
        "                path=image_path,\n",
        "                width=width,height=height,\n",
        "                polygons=polygons\n",
        "            )\n",
        "    \n",
        "    def load_mask(self, image_id):\n",
        "        \"\"\"Generate instance masks for an image.\n",
        "       Returns:\n",
        "        masks: A bool array of shape [height, width, instance count] with\n",
        "            one mask per instance.\n",
        "        class_ids: a 1D array of class IDs of the instance masks.\n",
        "        \"\"\"\n",
        "        # If not a oral dataset image, delegate to parent class.\n",
        "        image_info = self.image_info[image_id]\n",
        "        if image_info[\"source\"] != \"OralCancer\":\n",
        "            return super(self.__class__, self).load_mask(image_id)\n",
        "        \n",
        "        class_ids = image_info[\"class_ids\"]\n",
        "        class_ids = np.array(class_ids, dtype=np.int32)\n",
        "\n",
        "        # Convert polygons to a bitmap mask of shape\n",
        "        # [height, width, instance_count]\n",
        "        info = self.image_info[image_id]\n",
        "        mask = np.zeros([info[\"height\"], info[\"width\"], len(info[\"polygons\"])],\n",
        "                        dtype=np.uint8)\n",
        "        for i, p in enumerate(info[\"polygons\"]):\n",
        "            # Get indexes of pixels inside the polygon and set them to 1\n",
        "            rr, cc = skimage.draw.polygon(p['all_points_y'], p['all_points_x'])\n",
        "            mask[rr, cc, i] = 1\n",
        "        \n",
        "        return mask.astype(np.bool_), class_ids\n",
        "\n",
        "    def image_reference(self, image_id):\n",
        "        \"\"\"Return the path of the image.\"\"\"\n",
        "        info = self.image_info[image_id]\n",
        "        if info[\"source\"] == \"OralCancer\":\n",
        "            return info[\"path\"]\n",
        "        else:\n",
        "            super(self.__class__, self).image_reference(image_id)"
      ],
      "execution_count": null,
      "outputs": []
    },
    {
      "cell_type": "markdown",
      "source": [
        "## Develop training progress"
      ],
      "metadata": {
        "id": "lYyG2nHTOhZ3"
      }
    },
    {
      "cell_type": "code",
      "metadata": {
        "id": "7d3KxiHO_0gb"
      },
      "source": [
        "def train(model):\n",
        "    \"\"\"Train the model.\"\"\"\n",
        "    # Training dataset.\n",
        "    dataset_train = OralDataset()\n",
        "    dataset_train.load_dataset(ROOT_DIR+config.DATASET_DIR, \"train\")\n",
        "    dataset_train.prepare()\n",
        "\n",
        "    # Validation dataset\n",
        "    dataset_val = OralDataset()\n",
        "    dataset_val.load_dataset(ROOT_DIR+config.DATASET_DIR, \"val\")\n",
        "    dataset_val.prepare()\n",
        "\n",
        "    # *** This training schedule is an example. Update to your needs ***\n",
        "    # Since we're using a very small dataset, and starting from\n",
        "    # COCO trained weights, we don't need to train too long. Also,\n",
        "    # no need to train all layers, just the heads should do it.\n",
        "    print(\"Training network heads\")\n",
        "    model.train(dataset_train, dataset_val,\n",
        "          learning_rate=config.LEARNING_RATE,\n",
        "          epochs=config.EPOCH,\n",
        "          layers='heads'\n",
        "    )"
      ],
      "execution_count": null,
      "outputs": []
    },
    {
      "cell_type": "markdown",
      "metadata": {
        "id": "b2bjrfb2LDeo"
      },
      "source": [
        "## Train on the dataset"
      ]
    },
    {
      "cell_type": "code",
      "metadata": {
        "id": "4Qg7zSVOulkb"
      },
      "source": [
        "if __name__ == '__main__':\n",
        "    \n",
        "    # Configurations\n",
        "    config = ModelConfig()\n",
        "    config.display()\n",
        "\n",
        "    # Create model\n",
        "    model = modellib.MaskRCNN(mode=\"training\", config=config, model_dir=config.LOGS_DIR)\n",
        "\n",
        "    # Select weights file to load\n",
        "    if config.WEIGHT.lower() == \"coco\":\n",
        "        weights_path = \"mask_rcnn_coco.h5\" #COCO_WEIGHTS_PATH\n",
        "        # Download weights file\n",
        "        if not os.path.exists(weights_path):\n",
        "            utils.download_trained_weights(weights_path)\n",
        "    elif config.WEIGHT.lower() == \"imagenet\":\n",
        "        # Start from ImageNet trained weights\n",
        "        weights_path = model.get_imagenet_weights()\n",
        "    elif config.WEIGHT.lower() == \"last\":\n",
        "        # Find last trained weights\n",
        "        weights_path = model.find_last()\n",
        "    else:\n",
        "        weights_path = config.WEIGHT\n",
        "    \n",
        "    # Load weights\n",
        "    print(\"Loading weights \", weights_path)\n",
        "    if config.WEIGHT.lower() == \"coco\":\n",
        "        # Exclude the last layers because they require a matching\n",
        "        # number of classes\n",
        "        model.load_weights(weights_path, by_name=True, exclude=[\n",
        "                  \"mrcnn_class_logits\", \"mrcnn_bbox_fc\",\n",
        "                  \"mrcnn_bbox\", \"mrcnn_mask\"])\n",
        "    else:\n",
        "      model.load_weights(weights_path, by_name=True)\n",
        "    \n",
        "    # Train model\n",
        "    train(model)"
      ],
      "execution_count": null,
      "outputs": []
    },
    {
      "cell_type": "markdown",
      "source": [
        "## Exhibit training curves via **Tensorboard**:"
      ],
      "metadata": {
        "id": "Uzyh5l8aL-B_"
      }
    },
    {
      "cell_type": "code",
      "metadata": {
        "id": "hBXeH8UXFcqU"
      },
      "source": [
        "%load_ext tensorboard\n",
        "%tensorboard --logdir config.LOG_DIR"
      ],
      "execution_count": null,
      "outputs": []
    },
    {
      "cell_type": "markdown",
      "source": [
        "## Start **testing** progress\n"
      ],
      "metadata": {
        "id": "32KTF8QrJlX-"
      }
    },
    {
      "cell_type": "code",
      "source": [
        "from sklearn.metrics import confusion_matrix\n",
        "import matplotlib\n",
        "import matplotlib.pyplot as plt\n",
        "import matplotlib.patches as patches\n",
        "\n",
        "# [Param] Choose specific model weight\n",
        "# MODEL_PATH = os.path.join(config.LOG_DIR, \"./oral20220624T1332/mask_rcnn_OralCancer_0036.h5\")\n",
        "\n",
        "# Build output directory via the training phase\n",
        "#config.OUTPUT_DIR = \"./OUTPUT/oral20220624T1332_epoch0036/\"\n",
        "os.makedirs(config.OUTPUT_DIR, exist_ok=True)\n",
        "\n",
        "# Override the training configurations with a few\n",
        "# changes for inferencing.\n",
        "class InferenceConfig(config.__class__):\n",
        "    # Run detection on one image at a time\n",
        "    # GPU_COUNT = 1\n",
        "    IMAGES_PER_GPU = 1\n",
        "config = InferenceConfig()\n",
        "config.display()\n",
        "\n",
        "# Inspect the model in training or inference modes\n",
        "# values: 'inference' or 'training'\n",
        "TEST_MODE = \"inference\"\n",
        "\n",
        "def get_ax(rows=1, cols=1, size=8):\n",
        "    #Return a Matplotlib Axes array to be used in\n",
        "    #all visualizations in the notebook. Provide a\n",
        "    #central point to control graph sizes.\n",
        "    #Adjust the size attribute to control how big to render images\n",
        "    \n",
        "    _, ax = plt.subplots(rows, cols, figsize=(size*cols, size*rows))\n",
        "    return ax\n",
        "\n",
        "# Test dataset\n",
        "dataset_test = OralDataset()\n",
        "dataset_test.load_dataset(config.DATASET_DIR, \"test\")\n",
        "dataset_test.prepare()\n",
        "\n",
        "model = modellib.MaskRCNN(mode=\"inference\", config=config, model_dir=config.LOG_DIR)\n",
        "\n",
        "# Set weights file path\n",
        "if MODEL_PATH is not None:\n",
        "    weights_path = MODEL_PATH\n",
        "else:\n",
        "    weights_path = model.find_last()\n",
        "\n",
        "# Load weights\n",
        "print(\"Loading weights \", weights_path)\n",
        "model.load_weights(weights_path, by_name=True)\n",
        "\n",
        "# ## Run Detection\n",
        "\n",
        "# Initial ground-truth and predictions lists\n",
        "gt_tot_per_image = np.array([])\n",
        "pred_tot_per_image = np.array([])\n",
        "gt_tot = np.array([])\n",
        "pred_tot = np.array([])\n",
        "\n",
        "# Initial mAP list\n",
        "mAP_ = []\n",
        "mprecision_ = []\n",
        "mrecall_ = []\n",
        "mdice = []\n",
        "class_names = []\n",
        "class_names_index = []\n",
        "APs = []\n",
        "count1 = 0"
      ],
      "metadata": {
        "id": "47Uv-9tt-DmS"
      },
      "execution_count": null,
      "outputs": []
    },
    {
      "cell_type": "markdown",
      "source": [
        "## Load and inference on testing dataset"
      ],
      "metadata": {
        "id": "Onv4R9u3OBPb"
      }
    },
    {
      "cell_type": "code",
      "source": [
        "# Random choose several testing samples\n",
        "# image_id = random.choice(dataset.image_ids, 32)\n",
        "\n",
        "for image_id in dataset.image_ids:\n",
        "    image, image_meta, gt_class_id, gt_bbox, gt_mask = modellib.load_image_gt(dataset, config, image_id) #change, use_mini_mask=False\n",
        "    info = dataset.image_info[image_id]\n",
        "    print(\"\\nimage ID: {}.{} ({}) {}\".format(info[\"source\"], info[\"id\"], image_id, dataset.image_reference(image_id)))\n",
        "    \n",
        "    molded_image = np.expand_dims(image, 0)\n",
        "    \n",
        "    # Run object detection\n",
        "    results = model.detect(molded_image, verbose=0)\n",
        "\n",
        "    # Display results\n",
        "    ax = get_ax()\n",
        "    r = results[0]\n",
        "    \n",
        "    # - Concatenate all materials for \"confusion matrix\" - \n",
        "    if count1 == 0:\n",
        "        # Concatenate \"ground truth\" class, bbox, mask\n",
        "        concat_gt_class_id, concat_gt_bbox, concat_gt_mask = gt_class_id, gt_bbox, gt_mask\n",
        "        # Concatenate all model \"detection result\"\n",
        "        concat_r_rois, concat_r_masks, concat_r_class_ids, concat_r_scores = r['rois'], r['masks'], r['class_ids'], r['scores']\n",
        "    else:\n",
        "        # Concatenate \"ground truth\" class, bbox, mask\n",
        "        concat_gt_class_id = np.concatenate((concat_gt_class_id, gt_class_id), axis=0)\n",
        "        concat_gt_bbox = np.concatenate((concat_gt_bbox, gt_bbox), axis=0)\n",
        "        concat_gt_mask = np.concatenate((concat_gt_mask, gt_mask), axis=2)\n",
        "        # Concatenate model \"detection result\"\n",
        "        concat_r_rois = np.concatenate((concat_r_rois, r['rois']), axis=0)\n",
        "        concat_r_masks = np.concatenate((concat_r_masks, r['masks']), axis=2)\n",
        "        concat_r_class_ids = np.concatenate((concat_r_class_ids, r['class_ids']), axis=0)\n",
        "        concat_r_scores = np.concatenate((concat_r_scores, r['scores']), axis=0)\n",
        "    \n",
        "    count1 += 1\n",
        "    \n",
        "    # Compute gt_tot and pred_tot\n",
        "    gt, pred = utils.gt_pred_lists(gt_class_id, gt_bbox, r['class_ids'], r['rois'])\n",
        "    gt_tot = np.append(gt_tot, gt)\n",
        "    pred_tot = np.append(pred_tot, pred)\n",
        "    \n",
        "    if len(gt_class_id) == 0 and len(r['class_ids']) > 0:\n",
        "        gt_tot_per_image = np.append(gt_tot_per_image, np.array(0))\n",
        "        pred_tot_per_image = np.append(pred_tot_per_image, np.max(r['class_ids']))\n",
        "        cls = np.max(r['class_ids'])\n",
        "        if dataset.class_names[int(cls)] not in class_names:\n",
        "            class_names.append(dataset.class_names[int(cls)])\n",
        "            class_names_index.append(int(cls))\n",
        "            \n",
        "    elif len(gt_class_id) > 0 and len(r['class_ids']) == 0:\n",
        "        gt_tot_per_image = np.append(gt_tot_per_image, np.max(gt_class_id))\n",
        "        pred_tot_per_image = np.append(pred_tot_per_image, np.array(0))\n",
        "        cls = np.max(gt_class_id)\n",
        "        if dataset.class_names[int(cls)] not in class_names:\n",
        "            class_names.append(dataset.class_names[0])\n",
        "            class_names_index.append(0)\n",
        "            \n",
        "    elif len(r['class_ids']) == 0 and len(gt_class_id) == 0:\n",
        "        gt_tot_per_image = np.append(gt_tot_per_image, np.array(0))\n",
        "        pred_tot_per_image = np.append(pred_tot_per_image, np.array(0))\n",
        "        if dataset.class_names[0] not in class_names:\n",
        "            class_names.append(dataset.class_names[0])\n",
        "            class_names_index.append(0)\n",
        "            \n",
        "    else:\n",
        "        gt_tot_per_image = np.append(gt_tot_per_image, np.max(gt_class_id))\n",
        "        pred_tot_per_image = np.append(pred_tot_per_image, np.max(r['class_ids']))\n",
        "        cls = np.max(gt_class_id)\n",
        "        if dataset.class_names[int(cls)] not in class_names:\n",
        "            class_names.append(dataset.class_names[int(cls)])\n",
        "            class_names_index.append(int(cls))\n",
        "        \n",
        "    color_list = []\n",
        "    cls_index = []\n",
        "    \n",
        "    for m, cls_name in enumerate(r['class_ids']):\n",
        "        # if cls_name == 3:\n",
        "            # color_list.append(colors[2])\n",
        "        # if cls_name == 2:\n",
        "            # color_list.append(colors[1])\n",
        "        # if cls_name == 1:\n",
        "            # color_list.append(colors[0])\n",
        "        cls_index.append(cls_name)\n",
        "    \n",
        "    dice = []\n",
        "    for j in range(len(gt_class_id)):\n",
        "        gt = gt_class_id[j].astype(np.int32) * np.array(gt_mask.astype(np.int32)[:,:,j])\n",
        "        for k in range(len(cls_index)):\n",
        "            seg = cls_index[k].astype(np.int32) * r[\"masks\"].astype(np.int32)[:,:,k]\n",
        "            score = np.sum(seg[gt==gt_class_id[j].astype(np.int32)])*2.0 / (np.sum(seg) + np.sum(gt))\n",
        "\n",
        "            if score <= 1:\n",
        "                dice.append(score)\n",
        "    \n",
        "    if np.mean(dice) <= 1:\n",
        "        print('Dice similarity score is {}'.format(np.mean(dice)))\n",
        "        mdice.append(np.mean(dice))\n",
        "    \n",
        "    image_display = visualize.display_instances(config.OUTPUT_DIR, info[\"id\"], image, r['rois'], r['masks'], r['class_ids'], dataset.class_names, r['scores'], ax=ax) #, title=\"Predictions\"\n",
        "    plt.imshow(image_display)\n",
        "    plt.savefig(config.OUTPUT_DIR+str(info[\"id\"]))\n",
        "    plt.show()\n",
        "    plt.close()\n",
        "    \n",
        "    AP, precisions, recalls, overlaps = utils.compute_ap(gt_bbox, gt_class_id, gt_mask, r['rois'], r['class_ids'], r['scores'], r['masks'])\n",
        "    APs.append(AP)\n",
        "\n",
        "    log(\"gt_class_id\", gt_class_id)\n",
        "    log(\"gt_bbox\", gt_bbox)\n",
        "    log(\"gt_mask\", gt_mask)"
      ],
      "metadata": {
        "id": "2ygoNYHsDTnN"
      },
      "execution_count": null,
      "outputs": []
    },
    {
      "cell_type": "markdown",
      "source": [
        "## Plot evaluation figures"
      ],
      "metadata": {
        "id": "PoUqOcrINrFQ"
      }
    },
    {
      "cell_type": "code",
      "source": [
        "# Print mAP and mean dice scores\n",
        "print(\"mAP @ IoU=50: \", np.mean(APs))\n",
        "print(\"mean Dice: \", np.mean(mdice))\n",
        "\n",
        "# (1) Plot confusion matrix\n",
        "y_test = np.array(gt_tot_per_image)\n",
        "predictions = np.array(pred_tot_per_image)\n",
        "\n",
        "confm = confusion_matrix(y_test, predictions)\n",
        "df_cm = DataFrame(confm, index=[dataset.class_names], columns=[dataset.class_names])\n",
        "\n",
        "sn.set(font_scale=1.4) # for label size\n",
        "sn.heatmap(df_cm, annot=True, cmap='Blues', fmt='g') # font size\n",
        "\n",
        "plt.title('Confusion matrix (per image)')\n",
        "plt.savefig(config.OUTPUT_DIR+\"Confusion_matrix.png\")\n",
        "plt.show()\n",
        "plt.close()\n",
        "\n",
        "# (2) Calculate F1 scores & plot precision-recall curve \n",
        "fig, ax = plt.subplots(1, 1, figsize=(9, 6), tight_layout=True)\n",
        "    \n",
        "colorlist = ['Gray', 'Green', 'Yellow', 'Red', 'Blue', 'Green', 'Yellow', 'Red', 'Blue'] #config.colorlist\n",
        "\n",
        "F1_scores = []\n",
        "\n",
        "for class_id in range(1, len(dataset.class_names)):\n",
        "    mAP, precisions, recalls, _ =\\\n",
        "            utils.compute_ap_pre_class(concat_gt_bbox, concat_gt_class_id, concat_gt_mask, concat_r_rois, concat_r_class_ids, concat_r_scores, concat_r_masks, class_id)\n",
        "    mAR, _ = utils.compute_recall(concat_r_rois, concat_gt_bbox, iou=0.5) \n",
        "    \n",
        "    F1_scores = (2* (np.mean(precisions) * np.mean(recalls)))/(np.mean(precisions) + np.mean(recalls))\n",
        "    \n",
        "    ax.plot(recalls, precisions, color = colorlist[class_id], label=dataset.class_names[class_id] + ' mAP=%.2f, F1 score=%.2f' % (mAP, F1_scores))\n",
        "\n",
        "ax.set_xlabel('Recall (Sensitivity, True positive rate)')\n",
        "ax.set_ylabel('Precision (Positive predicted values)')\n",
        "ax.set_xlim(0, 1)\n",
        "ax.set_ylim(0, 1)\n",
        "\n",
        "ax.legend(loc=\"upper right\", prop={'size': 12})\n",
        "\n",
        "mmAP, mprecisions, mrecalls, overlaps =\\\n",
        "            utils.compute_ap(concat_gt_bbox, concat_gt_class_id, concat_gt_mask,\n",
        "                     concat_r_rois, concat_r_class_ids, concat_r_scores, concat_r_masks)\n",
        "mmAR, _ = utils.compute_recall(concat_r_rois, concat_gt_bbox, iou=0.5) \n",
        "F1_scores = (2* (np.mean(mprecisions) * np.mean(mrecalls)))/(np.mean(mprecisions) + np.mean(mrecalls))\n",
        "ax.plot(mrecalls, mprecisions, color = 'Blue', label='Total mAP=%.2f, F1 score=%.2f, Mean dice similarity score=%.2f' % (mmAP, F1_scores, mdice))\n",
        "\n",
        "plt.legend()\n",
        "plt.savefig(config.OUTPUT_DIR+\"PR_curve.png\")\n",
        "plt.show()\n",
        "plt.close()"
      ],
      "metadata": {
        "id": "jzTMT1Q0DYir"
      },
      "execution_count": null,
      "outputs": []
    }
  ]
}